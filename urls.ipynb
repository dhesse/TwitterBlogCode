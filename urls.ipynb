{
 "cells": [
  {
   "cell_type": "code",
   "execution_count": 14,
   "metadata": {
    "collapsed": false
   },
   "outputs": [],
   "source": [
    "import collection.JavaConversions._\n",
    "\n",
    "import org.apache.hadoop.conf.Configuration\n",
    "import org.apache.spark.{SparkContext, SparkConf}\n",
    "import org.apache.spark.rdd.RDD\n",
    "\n",
    "import org.bson.BSONObject\n",
    "import org.bson.types.BasicBSONList\n",
    "import java.io._\n",
    "import com.mongodb.hadoop.{\n",
    "  MongoInputFormat, MongoOutputFormat,\n",
    "  BSONFileInputFormat, BSONFileOutputFormat}\n",
    "\n",
    "import org.jsoup.Jsoup\n",
    "import org.jsoup.HttpStatusException"
   ]
  },
  {
   "cell_type": "code",
   "execution_count": 2,
   "metadata": {
    "collapsed": true
   },
   "outputs": [],
   "source": [
    "val mongoConfig = new Configuration()\n",
    "mongoConfig.set(\"mongo.input.uri\",\n",
    "    \"mongodb://localhost:27017/twitter.tweets\")\n",
    "val documents = sc.newAPIHadoopRDD(\n",
    "    mongoConfig,                // Configuration\n",
    "    classOf[MongoInputFormat],  // InputFormat\n",
    "    classOf[Object],            // Key type\n",
    "    classOf[BSONObject])        // Value type"
   ]
  },
  {
   "cell_type": "code",
   "execution_count": 3,
   "metadata": {
    "collapsed": false
   },
   "outputs": [],
   "source": [
    "val topURLs = documents.map{case (a, b) => b}.\n",
    "  map(_ get(\"entities\")).\n",
    "  map{case e: BSONObject => e.get(\"urls\")}.\n",
    "  flatMap{case l: BasicBSONList => l.toMap.map(_._2).toList}.\n",
    "  flatMap{case b: BSONObject => Some(b.get(\"expanded_url\"))\n",
    "          case _ => None}.\n",
    "  flatMap{\n",
    "      x => {\n",
    "          val re = \"\"\"http://(?:www\\.)?(\\w+\\.\\w+)/.*\"\"\".r\n",
    "          x match {\n",
    "              case re(a) => Some(a)\n",
    "              case _ => None\n",
    "          }\n",
    "      }\n",
    "  }.\n",
    "  countByValue().\n",
    "  toList.\n",
    "  sortBy(- _._2)"
   ]
  },
  {
   "cell_type": "code",
   "execution_count": 4,
   "metadata": {
    "collapsed": false
   },
   "outputs": [
    {
     "name": "stdout",
     "output_type": "stream",
     "text": [
      "(bit.ly,295)\n",
      "(softnetsearch.com,199)\n",
      "(buff.ly,130)\n",
      "(ow.ly,125)\n",
      "(wp.me,46)\n",
      "(goo.gl,25)\n",
      "(firstround.com,22)\n",
      "(snip.ly,21)\n",
      "(activevoice.us,21)\n",
      "(dlvr.it,19)\n",
      "(openculture.com,17)\n",
      "(bluehillresearch.com,17)\n",
      "(datasciencecentral.com,14)\n",
      "(onforb.es,11)\n",
      "(dataversity.net,11)\n",
      "(datanami.com,11)\n",
      "(paper.li,10)\n",
      "(boozallen.com,9)\n",
      "(owl.li,9)\n",
      "(tweetedtimes.com,8)\n"
     ]
    },
    {
     "data": {
      "text/plain": [
       "List((), (), (), (), (), (), (), (), (), (), (), (), (), (), (), (), (), (), (), ())"
      ]
     },
     "execution_count": 4,
     "metadata": {},
     "output_type": "execute_result"
    }
   ],
   "source": [
    "topURLs.take(20).map(println)"
   ]
  },
  {
   "cell_type": "code",
   "execution_count": 6,
   "metadata": {
    "collapsed": true
   },
   "outputs": [],
   "source": [
    "val file = new File(\"topURLs.csv\")\n",
    "val writer = new BufferedWriter(new FileWriter(file))\n",
    "writer.write(\"Base URL,Use Count\\n\")\n",
    "for (pair <- topURLs.take(15)) writer.write(pair._1 + \",\" + pair._2 + \"\\n\")\n",
    "writer.close()"
   ]
  },
  {
   "cell_type": "code",
   "execution_count": 21,
   "metadata": {
    "collapsed": false
   },
   "outputs": [],
   "source": [
    "val topExpanded = documents.map{case (a, b) => b}.\n",
    "  map(_ get(\"entities\")).\n",
    "  map{case e: BSONObject => e.get(\"urls\")}.\n",
    "  flatMap{case l: BasicBSONList => l.toMap.map(_._2).toList}.\n",
    "  flatMap{case b: BSONObject => Some(b.get(\"expanded_url\"))\n",
    "          case _ => None}.\n",
    "  map(x => {\n",
    "      val bit = \"\"\"http://bit\\.ly/.*\"\"\".r\n",
    "      val buf = \"\"\"http://buff\\.ly/.*\"\"\".r\n",
    "      def lengthen(x: Object) : String = {\n",
    "        val doc = Jsoup.connect(x + \"+\").get()\n",
    "        doc.select(\"a#bitmark_long_url\").attr(\"href\")\n",
    "      }\n",
    "      def retryLengthen(x: Object): Option[String] = {\n",
    "          try {\n",
    "              return Some(lengthen(x))\n",
    "          } catch {\n",
    "              case e: HttpStatusException => {\n",
    "                  if (e.getStatusCode() == 403) {\n",
    "                      Thread.sleep(10000) // crawl responsibly!\n",
    "                      return retryLengthen(x)\n",
    "                  } else return None\n",
    "              }\n",
    "          }\n",
    "      }\n",
    "      x match {\n",
    "          case bit() => {\n",
    "             retryLengthen(x)\n",
    "          }\n",
    "          case buf() => { // more of a hail marry\n",
    "             retryLengthen(x)\n",
    "          }\n",
    "          case _ => x\n",
    "      }}).\n",
    "   flatMap{\n",
    "      x => {\n",
    "          val re = \"\"\"http://(?:www\\.)?(\\w+\\.\\w+)/.*\"\"\".r\n",
    "          x match {\n",
    "              case re(a) => Some(a)\n",
    "              case _ => None\n",
    "          }\n",
    "      }\n",
    "  }.\n",
    "  countByValue().\n",
    "  toList.\n",
    "  sortBy(- _._2)"
   ]
  },
  {
   "cell_type": "code",
   "execution_count": 26,
   "metadata": {
    "collapsed": false
   },
   "outputs": [],
   "source": [
    "val file = new File(\"topURLsExpanded.csv\")\n",
    "val writer = new BufferedWriter(new FileWriter(file))\n",
    "writer.write(\"Base URL,Use Count\\n\")\n",
    "for (pair <- topExpanded.filter(!_._1.contains(\".ly\")).take(15)) writer.write(pair._1 + \",\" + pair._2 + \"\\n\")\n",
    "writer.close()"
   ]
  },
  {
   "cell_type": "code",
   "execution_count": 7,
   "metadata": {
    "collapsed": false
   },
   "outputs": [
    {
     "data": {
      "text/plain": [
       "Array(http://bit.ly/1PNSyUE, http://bit.ly/1RyUCeo, http://bit.ly/1SjkWi8, http://bit.ly/1XhvNIU, http://bit.ly/1RkWvvv)"
      ]
     },
     "execution_count": 7,
     "metadata": {},
     "output_type": "execute_result"
    }
   ],
   "source": [
    "// get a sample of bit.ly urls\n",
    "documents.map{case (a, b) => b}.\n",
    "  map(_ get(\"entities\")).\n",
    "  map{case e: BSONObject => e.get(\"urls\")}.\n",
    "  flatMap{case l: BasicBSONList => l.toMap.map(_._2).toList}.\n",
    "  flatMap{case b: BSONObject => Some(b.get(\"expanded_url\"))\n",
    "          case _ => None}.\n",
    "  flatMap{case s: String => \"http://bit.ly/.*\".r findFirstIn s}.\n",
    "  take(5)"
   ]
  },
  {
   "cell_type": "code",
   "execution_count": 8,
   "metadata": {
    "collapsed": false
   },
   "outputs": [
    {
     "data": {
      "text/plain": [
       "Array(http://buff.ly/1Poikha, http://buff.ly/1Poikha, http://buff.ly/1Poikha, http://buff.ly/1Poikha, http://buff.ly/1UNUNtq)"
      ]
     },
     "execution_count": 8,
     "metadata": {},
     "output_type": "execute_result"
    }
   ],
   "source": [
    "// get a sample of buff.ly urls\n",
    "documents.map{case (a, b) => b}.\n",
    "  map(_ get(\"entities\")).\n",
    "  map{case e: BSONObject => e.get(\"urls\")}.\n",
    "  map{case l: BasicBSONList => l.get(\"0\")}.\n",
    "  flatMap{case b: BSONObject => Some(b.get(\"expanded_url\"))\n",
    "          case _ => None}.\n",
    "  flatMap{case s: String => \"http://buff.ly/.*\".r findFirstIn s}.\n",
    "  take(5)"
   ]
  }
 ],
 "metadata": {
  "kernelspec": {
   "display_name": "Toree",
   "language": "",
   "name": "toree"
  },
  "language_info": {
   "name": "scala"
  }
 },
 "nbformat": 4,
 "nbformat_minor": 0
}
