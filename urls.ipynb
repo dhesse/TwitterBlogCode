{
 "cells": [
  {
   "cell_type": "code",
   "execution_count": 1,
   "metadata": {
    "collapsed": true
   },
   "outputs": [],
   "source": [
    "import collection.JavaConversions._\n",
    "\n",
    "import org.apache.hadoop.conf.Configuration\n",
    "import org.apache.spark.{SparkContext, SparkConf}\n",
    "import org.apache.spark.rdd.RDD\n",
    "\n",
    "import org.bson.BSONObject\n",
    "import org.bson.types.BasicBSONList\n",
    "import java.io._\n",
    "import com.mongodb.hadoop.{\n",
    "  MongoInputFormat, MongoOutputFormat,\n",
    "  BSONFileInputFormat, BSONFileOutputFormat}"
   ]
  },
  {
   "cell_type": "code",
   "execution_count": 2,
   "metadata": {
    "collapsed": true
   },
   "outputs": [],
   "source": [
    "val mongoConfig = new Configuration()\n",
    "mongoConfig.set(\"mongo.input.uri\",\n",
    "    \"mongodb://localhost:27017/twitter.tweets\")\n",
    "val documents = sc.newAPIHadoopRDD(\n",
    "    mongoConfig,                // Configuration\n",
    "    classOf[MongoInputFormat],  // InputFormat\n",
    "    classOf[Object],            // Key type\n",
    "    classOf[BSONObject])        // Value type"
   ]
  },
  {
   "cell_type": "code",
   "execution_count": 46,
   "metadata": {
    "collapsed": false
   },
   "outputs": [],
   "source": [
    "val regex = \"http://(\\\\w+.\\\\w+)/.*\".r\n",
    "val topTags = documents.map{case (a, b) => b}.\n",
    "  map(_ get(\"entities\")).\n",
    "  map{case e: BSONObject => e.get(\"urls\")}.\n",
    "  flatMap{case l: BasicBSONList => l.toMap.map(_._2).toList}.\n",
    "  flatMap{case b: BSONObject => Some(b.get(\"expanded_url\"))\n",
    "          case _ => None}.\n",
    "  flatMap{case s: String => \"http://(\\\\w+.\\\\w+)/.*\".r findFirstMatchIn s}.\n",
    "  map(_.group(1)).\n",
    "  countByValue().\n",
    "  toList.\n",
    "  sortBy(-_._2)"
   ]
  },
  {
   "cell_type": "code",
   "execution_count": 47,
   "metadata": {
    "collapsed": false
   },
   "outputs": [
    {
     "data": {
      "text/plain": [
       "List((bit.ly,295), (buff.ly,130), (ow.ly,125), (wp.me,46), (goo.gl,25), (firstround.com,22), (snip.ly,21), (dlvr.it,19), (bluehillresearch.com,17), (onforb.es,11))"
      ]
     },
     "execution_count": 47,
     "metadata": {},
     "output_type": "execute_result"
    }
   ],
   "source": [
    "topTags.take(10)"
   ]
  },
  {
   "cell_type": "code",
   "execution_count": 45,
   "metadata": {
    "collapsed": false
   },
   "outputs": [
    {
     "data": {
      "text/plain": [
       "Array(http://bit.ly/1PNSyUE, http://bit.ly/1RyUCeo, http://bit.ly/1SjkWi8, http://bit.ly/1XhvNIU, http://bit.ly/1RkWvvv)"
      ]
     },
     "execution_count": 45,
     "metadata": {},
     "output_type": "execute_result"
    }
   ],
   "source": [
    "documents.map{case (a, b) => b}.\n",
    "  map(_ get(\"entities\")).\n",
    "  map{case e: BSONObject => e.get(\"urls\")}.\n",
    "  flatMap{case l: BasicBSONList => l.toMap.map(_._2).toList}.\n",
    "  flatMap{case b: BSONObject => Some(b.get(\"expanded_url\"))\n",
    "          case _ => None}.\n",
    "  flatMap{case s: String => \"http://bit.ly/.*\".r findFirstIn s}.\n",
    "  take(5)"
   ]
  },
  {
   "cell_type": "code",
   "execution_count": 42,
   "metadata": {
    "collapsed": false
   },
   "outputs": [
    {
     "data": {
      "text/plain": [
       "Array(http://buff.ly/1Poikha, http://buff.ly/1Poikha, http://buff.ly/1Poikha, http://buff.ly/1Poikha, http://buff.ly/1UNUNtq)"
      ]
     },
     "execution_count": 42,
     "metadata": {},
     "output_type": "execute_result"
    }
   ],
   "source": [
    "documents.map{case (a, b) => b}.\n",
    "  map(_ get(\"entities\")).\n",
    "  map{case e: BSONObject => e.get(\"urls\")}.\n",
    "  map{case l: BasicBSONList => l.get(\"0\")}.\n",
    "  flatMap{case b: BSONObject => Some(b.get(\"expanded_url\"))\n",
    "          case _ => None}.\n",
    "  flatMap{case s: String => \"http://buff.ly/.*\".r findFirstIn s}.\n",
    "  take(5)"
   ]
  },
  {
   "cell_type": "code",
   "execution_count": 44,
   "metadata": {
    "collapsed": false
   },
   "outputs": [
    {
     "data": {
      "text/plain": [
       "Array(http://ow.ly/XDQHb, http://ow.ly/104O69, http://ow.ly/104O69, http://ow.ly/104O69, http://ow.ly/YjSSq)"
      ]
     },
     "execution_count": 44,
     "metadata": {},
     "output_type": "execute_result"
    }
   ],
   "source": [
    "documents.map{case (a, b) => b}.\n",
    "  map(_ get(\"entities\")).\n",
    "  map{case e: BSONObject => e.get(\"urls\")}.\n",
    "  map{case l: BasicBSONList => l.get(\"0\")}.\n",
    "  flatMap{case b: BSONObject => Some(b.get(\"expanded_url\"))\n",
    "          case _ => None}.\n",
    "  flatMap{case s: String => \"http://ow.ly/.*\".r findFirstIn s}.\n",
    "  take(5)"
   ]
  }
 ],
 "metadata": {
  "kernelspec": {
   "display_name": "Toree",
   "language": "",
   "name": "toree"
  },
  "language_info": {
   "name": "scala"
  }
 },
 "nbformat": 4,
 "nbformat_minor": 0
}
