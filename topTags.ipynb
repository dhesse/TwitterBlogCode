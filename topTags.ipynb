{
 "cells": [
  {
   "cell_type": "code",
   "execution_count": 153,
   "metadata": {
    "collapsed": false
   },
   "outputs": [],
   "source": [
    "import collection.JavaConversions._\n",
    "\n",
    "import org.apache.hadoop.conf.Configuration\n",
    "import org.apache.spark.{SparkContext, SparkConf}\n",
    "import org.apache.spark.rdd.RDD\n",
    "\n",
    "import org.bson.BSONObject\n",
    "import org.bson.types.BasicBSONList\n",
    "import com.mongodb.BasicDBList\n",
    "import com.mongodb.BasicDBObject\n",
    "import java.io._\n",
    "import com.mongodb.hadoop.{\n",
    "  MongoInputFormat, MongoOutputFormat,\n",
    "  BSONFileInputFormat, BSONFileOutputFormat}\n",
    "import com.mongodb.hadoop.io.MongoUpdateWritable"
   ]
  },
  {
   "cell_type": "code",
   "execution_count": 3,
   "metadata": {
    "collapsed": true
   },
   "outputs": [],
   "source": [
    "val mongoConfig = new Configuration()\n",
    "mongoConfig.set(\"mongo.input.uri\",\n",
    "    \"mongodb://localhost:27017/twitter.tweets\")\n",
    "val documents = sc.newAPIHadoopRDD(\n",
    "    mongoConfig,                // Configuration\n",
    "    classOf[MongoInputFormat],  // InputFormat\n",
    "    classOf[Object],            // Key type\n",
    "    classOf[BSONObject])        // Value type"
   ]
  },
  {
   "cell_type": "code",
   "execution_count": 5,
   "metadata": {
    "collapsed": false
   },
   "outputs": [],
   "source": [
    "val head = documents.take(5)"
   ]
  },
  {
   "cell_type": "code",
   "execution_count": 157,
   "metadata": {
    "collapsed": false
   },
   "outputs": [],
   "source": [
    "val topTags = documents.map{case (a, b) => b}.\n",
    "  map(_ get(\"entities\")).\n",
    "  map{case u: BSONObject => u.get(\"hashtags\")}.\n",
    "  flatMap{case l: BasicBSONList => l.toMap.map(_._2).toList}.\n",
    "  map{case u: BSONObject => u.get(\"text\")}.\n",
    "  map{case u: String => u.toLowerCase()}.\n",
    "  filter(_ != \"datascience\").\n",
    "  countByValue().\n",
    "  toList.\n",
    "  sortBy(- _._2).\n",
    "  take(15)"
   ]
  },
  {
   "cell_type": "code",
   "execution_count": 158,
   "metadata": {
    "collapsed": false
   },
   "outputs": [],
   "source": [
    "val file = new File(\"topTags.csv\")\n",
    "val writer = new BufferedWriter(new FileWriter(file))\n",
    "writer.write(\"Hashtag,Use Count\\n\")\n",
    "for (pair <- topTags) writer.write(pair._1 + \",\" + pair._2 + \"\\n\")\n",
    "writer.close()"
   ]
  }
 ],
 "metadata": {
  "kernelspec": {
   "display_name": "Toree",
   "language": "",
   "name": "toree"
  },
  "language_info": {
   "name": "scala"
  }
 },
 "nbformat": 4,
 "nbformat_minor": 0
}
